{
 "cells": [
  {
   "cell_type": "code",
   "execution_count": 1,
   "metadata": {},
   "outputs": [],
   "source": [
    "import pandas as pd\n",
    "import numpy as np\n",
    "import matplotlib.pyplot as plt\n",
    "import datetime"
   ]
  },
  {
   "cell_type": "code",
   "execution_count": 15,
   "metadata": {},
   "outputs": [],
   "source": [
    "def create_df(start_date: str, end_date: str):\n",
    "    time_delta = datetime.date.fromisoformat(end_date) - datetime.date.fromisoformat(start_date)\n",
    "    num_hours = time_delta.hours\n",
    "    dates = pd.date_range(start=start_date, end=end_date, periods=num_hours)\n",
    "\n",
    "    df = pd.DataFrame()\n",
    "    df['x'] = np.random.randint(0,100, size=size)\n",
    "    df['y'] = np.random.randint(0,100, size=size)\n",
    "    df['value'] = np.random.normal(100,10, size=size)\n",
    "    df['color'] = np.random.choice(['red','green','blue','yellow'], size=size)\n",
    "    df['s'] = np.random.choice(['Yes', 'No'], size=size)\n",
    "    df['date'] = np.random.choice(dates, size=size)\n",
    "\n",
    "    if set_types:\n",
    "        df['x'] = df['x'].astype('int8')\n",
    "        df['y'] = df['y'].astype('int8')\n",
    "        df['value'] = df['value'].astype('float32')\n",
    "        df['color'] = df['color'].astype('category')\n",
    "        df['s'] = df['s'].map({'Yes':True, 'No':False})\n",
    "    return df"
   ]
  },
  {
   "cell_type": "code",
   "execution_count": 16,
   "metadata": {},
   "outputs": [
    {
     "ename": "NameError",
     "evalue": "name 'size' is not defined",
     "output_type": "error",
     "traceback": [
      "\u001b[1;31m---------------------------------------------------------------------------\u001b[0m",
      "\u001b[1;31mNameError\u001b[0m                                 Traceback (most recent call last)",
      "Cell \u001b[1;32mIn [16], line 1\u001b[0m\n\u001b[1;32m----> 1\u001b[0m create_df(\u001b[39m'\u001b[39m\u001b[39m2022-01-01\u001b[39m\u001b[39m'\u001b[39m, \u001b[39m'\u001b[39m\u001b[39m2022-01-05\u001b[39m\u001b[39m'\u001b[39m)\n",
      "Cell \u001b[1;32mIn [15], line 6\u001b[0m, in \u001b[0;36mcreate_df\u001b[1;34m(start_date, end_date)\u001b[0m\n\u001b[0;32m      3\u001b[0m dates \u001b[39m=\u001b[39m pd\u001b[39m.\u001b[39mdate_range(start\u001b[39m=\u001b[39mstart_date, end\u001b[39m=\u001b[39mend_date, periods\u001b[39m=\u001b[39mtime_delta\u001b[39m.\u001b[39mdays \u001b[39m*\u001b[39m \u001b[39m24\u001b[39m)\n\u001b[0;32m      5\u001b[0m df \u001b[39m=\u001b[39m pd\u001b[39m.\u001b[39mDataFrame()\n\u001b[1;32m----> 6\u001b[0m df[\u001b[39m'\u001b[39m\u001b[39mx\u001b[39m\u001b[39m'\u001b[39m] \u001b[39m=\u001b[39m np\u001b[39m.\u001b[39mrandom\u001b[39m.\u001b[39mrandint(\u001b[39m0\u001b[39m,\u001b[39m100\u001b[39m, size\u001b[39m=\u001b[39msize)\n\u001b[0;32m      7\u001b[0m df[\u001b[39m'\u001b[39m\u001b[39my\u001b[39m\u001b[39m'\u001b[39m] \u001b[39m=\u001b[39m np\u001b[39m.\u001b[39mrandom\u001b[39m.\u001b[39mrandint(\u001b[39m0\u001b[39m,\u001b[39m100\u001b[39m, size\u001b[39m=\u001b[39msize)\n\u001b[0;32m      8\u001b[0m df[\u001b[39m'\u001b[39m\u001b[39mvalue\u001b[39m\u001b[39m'\u001b[39m] \u001b[39m=\u001b[39m np\u001b[39m.\u001b[39mrandom\u001b[39m.\u001b[39mnormal(\u001b[39m100\u001b[39m,\u001b[39m10\u001b[39m, size\u001b[39m=\u001b[39msize)\n",
      "\u001b[1;31mNameError\u001b[0m: name 'size' is not defined"
     ]
    }
   ],
   "source": [
    "create_df('2022-01-01', '2022-01-05')"
   ]
  }
 ],
 "metadata": {
  "kernelspec": {
   "display_name": "Python 3",
   "language": "python",
   "name": "python3"
  },
  "language_info": {
   "codemirror_mode": {
    "name": "ipython",
    "version": 3
   },
   "file_extension": ".py",
   "mimetype": "text/x-python",
   "name": "python",
   "nbconvert_exporter": "python",
   "pygments_lexer": "ipython3",
   "version": "3.10.7"
  },
  "orig_nbformat": 4,
  "vscode": {
   "interpreter": {
    "hash": "614885ed84319dd945e70037a4de64a6bf09168fbf7c0896a842c1e0ba973a19"
   }
  }
 },
 "nbformat": 4,
 "nbformat_minor": 2
}
